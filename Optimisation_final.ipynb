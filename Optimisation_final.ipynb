{
 "cells": [
  {
   "cell_type": "code",
   "execution_count": 2,
   "metadata": {},
   "outputs": [],
   "source": [
    "import numpy as np\n",
    "import glob\n",
    "import skimage\n",
    "import scipy\n",
    "import matplotlib.pyplot as plt\n",
    "\n",
    "from sklearn.linear_model import LogisticRegression\n",
    "from sklearn.neighbors import KNeighborsClassifier\n",
    "from sklearn.cluster import KMeans\n",
    "from sklearn import svm\n",
    "\n",
    "from sklearn.model_selection import train_test_split\n",
    "from sklearn.ensemble import RandomForestClassifier\n",
    "from sklearn.metrics import classification_report, confusion_matrix\n",
    "from sklearn.model_selection import cross_val_score\n",
    "\n",
    "import warnings\n",
    "warnings.filterwarnings('ignore')"
   ]
  },
  {
   "cell_type": "code",
   "execution_count": 3,
   "metadata": {},
   "outputs": [],
   "source": [
    "Descripteurs_test = np.load('Descripteurs_test.npy')\n",
    "Descripteurs = np.load('Descripteurs.npy')\n",
    "Classe = np.load('Classe.npy')"
   ]
  },
  {
   "cell_type": "code",
   "execution_count": 4,
   "metadata": {},
   "outputs": [],
   "source": [
    "features_train, features_test, labels_train, labels_test = train_test_split(Descripteurs,Classe,test_size=0.2,\n",
    "                                                                            random_state=1, stratify = Classe)"
   ]
  },
  {
   "cell_type": "markdown",
   "metadata": {},
   "source": [
    "# Logistic Classifier"
   ]
  },
  {
   "cell_type": "code",
   "execution_count": 5,
   "metadata": {},
   "outputs": [],
   "source": [
    "logistic_classifier = LogisticRegression()"
   ]
  },
  {
   "cell_type": "code",
   "execution_count": 6,
   "metadata": {},
   "outputs": [],
   "source": [
    "logistic_classifier.fit(Descripteurs, Classe)\n",
    "prediction = logistic_classifier.predict(features_test)"
   ]
  },
  {
   "cell_type": "code",
   "execution_count": 7,
   "metadata": {},
   "outputs": [
    {
     "name": "stdout",
     "output_type": "stream",
     "text": [
      "Scores on each CV fold: [0.91836735 0.95977237 0.84811617 0.92013344 0.89010989 0.90992936\n",
      " 0.8282967  0.94070513 0.94791667 0.88942308 0.89102564 0.96153846\n",
      " 0.95192308 0.87132353 0.84497549 0.8872549  0.94117647 0.75490196\n",
      " 0.92830882 0.92156863]\n",
      "Mean score: 0.900\n"
     ]
    }
   ],
   "source": [
    "scores_logistic = cross_val_score(logistic_classifier, Descripteurs, Classe, cv = 20, scoring='balanced_accuracy')\n",
    "print('Scores on each CV fold: %s' % scores_logistic)\n",
    "print('Mean score: %0.3f' % np.mean(scores_logistic))"
   ]
  },
  {
   "cell_type": "markdown",
   "metadata": {},
   "source": [
    "# KNN Classifier"
   ]
  },
  {
   "cell_type": "code",
   "execution_count": 8,
   "metadata": {},
   "outputs": [
    {
     "data": {
      "text/plain": [
       "KNeighborsClassifier(algorithm='auto', leaf_size=30, metric='minkowski',\n",
       "           metric_params=None, n_jobs=None, n_neighbors=30, p=2,\n",
       "           weights='uniform')"
      ]
     },
     "execution_count": 8,
     "metadata": {},
     "output_type": "execute_result"
    }
   ],
   "source": [
    "knn = KNeighborsClassifier(n_neighbors=30)\n",
    "knn.fit(Descripteurs, Classe)"
   ]
  },
  {
   "cell_type": "code",
   "execution_count": 9,
   "metadata": {},
   "outputs": [
    {
     "name": "stdout",
     "output_type": "stream",
     "text": [
      "Scores on each CV fold: [0.711146   0.68288854 0.6516876  0.66424647 0.81259812 0.73390895\n",
      " 0.67503925 0.74679487 0.73637821 0.75560897 0.78525641 0.82612179\n",
      " 0.84535256 0.78431373 0.73835784 0.68137255 0.78186275 0.79963235\n",
      " 0.84252451 0.76470588]\n",
      "Mean score: 0.751\n"
     ]
    }
   ],
   "source": [
    "scores_knn = cross_val_score(knn, Descripteurs, Classe, cv = 20, scoring='balanced_accuracy')\n",
    "print('Scores on each CV fold: %s' % scores_knn)\n",
    "print('Mean score: %0.3f' % np.mean(scores_knn))"
   ]
  },
  {
   "cell_type": "code",
   "execution_count": 10,
   "metadata": {},
   "outputs": [
    {
     "name": "stdout",
     "output_type": "stream",
     "text": [
      "[0.7398771527841906, 0.7243688821682519, 0.7618464693569736, 0.7495829581832734, 0.7490166258811218, 0.7486247864530425, 0.7463852367870225, 0.7500468456613414, 0.7618060685812786, 0.7527885673500169, 0.759006342921784, 0.7534013124480562, 0.7514258588050605, 0.7459717059900883, 0.7521776499061164, 0.7408245509742358, 0.7515814017914858, 0.743954264398067, 0.7488358324098872, 0.7461484112875919, 0.7494437678917721, 0.7478662137932096, 0.7483632395265799, 0.7525582348323946, 0.753731781174008, 0.7501486171391634, 0.7543114842090681, 0.7545048788746267, 0.7508683761966324, 0.7509898671006864, 0.7521185397235817, 0.751740407701542, 0.7525886797026502, 0.7493083771970326, 0.7532190279958136, 0.753400591005633, 0.7578063436913226, 0.7540133841998339, 0.7548321732539168]\n"
     ]
    }
   ],
   "source": [
    "knn_mean_scores = []\n",
    "\n",
    "for i in range(1,40):\n",
    "    knn_i = knn = KNeighborsClassifier(n_neighbors=i)\n",
    "    knn_i.fit(features_train, labels_train)\n",
    "    scores_knn_i = cross_val_score(knn_i, Descripteurs, Classe, cv = 20, scoring='balanced_accuracy')\n",
    "    knn_mean_scores.append(np.mean(scores_knn_i))\n",
    "print(knn_mean_scores)"
   ]
  },
  {
   "cell_type": "code",
   "execution_count": 11,
   "metadata": {},
   "outputs": [
    {
     "data": {
      "image/png": "[encoded data removed]",
      "text/plain": [
       "<Figure size 432x288 with 1 Axes>"
      ]
     },
     "metadata": {
      "needs_background": "light"
     },
     "output_type": "display_data"
    }
   ],
   "source": [
    "plt.plot(range(1, 40), knn_mean_scores, marker='o')\n",
    "plt.xlabel('Number of neighbors')\n",
    "plt.ylabel('Accuracy')\n",
    "plt.title('Accuracy function of number of neighbors')\n",
    "plt.show()"
   ]
  },
  {
   "cell_type": "code",
   "execution_count": 12,
   "metadata": {},
   "outputs": [
    {
     "data": {
      "text/plain": [
       "KNeighborsClassifier(algorithm='auto', leaf_size=30, metric='minkowski',\n",
       "           metric_params=None, n_jobs=None, n_neighbors=3, p=2,\n",
       "           weights='uniform')"
      ]
     },
     "execution_count": 12,
     "metadata": {},
     "output_type": "execute_result"
    }
   ],
   "source": [
    "knn_optimal = KNeighborsClassifier(n_neighbors=3)\n",
    "knn_optimal.fit(Descripteurs, Classe)"
   ]
  },
  {
   "cell_type": "code",
   "execution_count": 13,
   "metadata": {},
   "outputs": [
    {
     "name": "stdout",
     "output_type": "stream",
     "text": [
      "Scores on each CV fold: [0.711146   0.68288854 0.6516876  0.66424647 0.81259812 0.73390895\n",
      " 0.67503925 0.74679487 0.73637821 0.75560897 0.78525641 0.82612179\n",
      " 0.84535256 0.78431373 0.73835784 0.68137255 0.78186275 0.79963235\n",
      " 0.84252451 0.76470588]\n",
      "Mean score: 0.751\n"
     ]
    }
   ],
   "source": [
    "scores_knn_optimal = cross_val_score(knn_optimal, Descripteurs, Classe, cv = 20, scoring='balanced_accuracy')\n",
    "print('Scores on each CV fold: %s' % scores_knn)\n",
    "print('Mean score: %0.3f' % np.mean(scores_knn))"
   ]
  },
  {
   "cell_type": "markdown",
   "metadata": {},
   "source": [
    "# K-means"
   ]
  },
  {
   "cell_type": "code",
   "execution_count": 14,
   "metadata": {},
   "outputs": [],
   "source": [
    "kmeans = KMeans(n_clusters=2, random_state=42)\n",
    "labels = kmeans.fit_predict(Descripteurs)"
   ]
  },
  {
   "cell_type": "code",
   "execution_count": 15,
   "metadata": {},
   "outputs": [
    {
     "name": "stdout",
     "output_type": "stream",
     "text": [
      "Scores on each CV fold: [0.35       0.74       0.65416667 0.31       0.33       0.36\n",
      " 0.4        0.65       0.69       0.26       0.3        0.68\n",
      " 0.22       0.66037736 0.34       0.32083333 0.66       0.26666667\n",
      " 0.72       0.35      ]\n",
      "Mean score: 0.463\n"
     ]
    }
   ],
   "source": [
    "scores_kmeans = cross_val_score(kmeans, Descripteurs, Classe, cv = 20, scoring='balanced_accuracy')\n",
    "print('Scores on each CV fold: %s' % scores_kmeans)\n",
    "print('Mean score: %0.3f' % np.mean(scores_kmeans))"
   ]
  },
  {
   "cell_type": "markdown",
   "metadata": {},
   "source": [
    "# SVM"
   ]
  },
  {
   "cell_type": "code",
   "execution_count": 16,
   "metadata": {},
   "outputs": [],
   "source": [
    "clf = svm.SVC(gamma='scale')"
   ]
  },
  {
   "cell_type": "code",
   "execution_count": 17,
   "metadata": {},
   "outputs": [],
   "source": [
    "clf.fit(Descripteurs,Classe)\n",
    "svm_predict = clf.predict(features_test)"
   ]
  },
  {
   "cell_type": "code",
   "execution_count": 18,
   "metadata": {},
   "outputs": [
    {
     "name": "stdout",
     "output_type": "stream",
     "text": [
      "Scores on each CV fold: [0.35       0.74       0.65416667 0.31       0.33       0.36\n",
      " 0.4        0.65       0.69       0.26       0.3        0.68\n",
      " 0.22       0.66037736 0.34       0.32083333 0.66       0.26666667\n",
      " 0.72       0.35      ]\n",
      "Mean score: 0.463\n"
     ]
    }
   ],
   "source": [
    "scores_svm = cross_val_score(clf, Descripteurs, Classe, cv = 20, scoring='balanced_accuracy')\n",
    "print('Scores on each CV fold: %s' % scores_kmeans)\n",
    "print('Mean score: %0.3f' % np.mean(scores_kmeans))"
   ]
  },
  {
   "cell_type": "markdown",
   "metadata": {},
   "source": [
    "svm_predict"
   ]
  },
  {
   "cell_type": "markdown",
   "metadata": {},
   "source": [
    "# Random Forest"
   ]
  },
  {
   "cell_type": "code",
   "execution_count": 19,
   "metadata": {},
   "outputs": [],
   "source": [
    "rfc = RandomForestClassifier(n_estimators=100)"
   ]
  },
  {
   "cell_type": "code",
   "execution_count": 20,
   "metadata": {},
   "outputs": [
    {
     "name": "stdout",
     "output_type": "stream",
     "text": [
      "Scores on each CV fold: [0.81691523 0.94956829 0.85890895 0.9399529  0.93877551 0.92013344\n",
      " 0.87755102 0.9599359  0.89583333 0.83653846 0.84855769 0.96955128\n",
      " 0.96073718 0.92034314 0.84497549 0.84436275 0.98039216 0.89215686\n",
      " 0.88664216 0.97058824]\n",
      "Mean score: 0.906\n"
     ]
    }
   ],
   "source": [
    "rfc.fit(Descripteurs,Classe)\n",
    "scores_rfc = cross_val_score(rfc, Descripteurs, Classe, cv = 20, scoring='balanced_accuracy')\n",
    "print('Scores on each CV fold: %s' % scores_rfc)\n",
    "print('Mean score: %0.3f' % np.mean(scores_rfc))"
   ]
  },
  {
   "cell_type": "markdown",
   "metadata": {},
   "source": [
    "# Neural Network"
   ]
  },
  {
   "cell_type": "code",
   "execution_count": 1,
   "metadata": {},
   "outputs": [
    {
     "ename": "ImportError",
     "evalue": "Traceback (most recent call last):\n  File \"/Users/Sebastien/miniconda3/envs/Optimisation/lib/python3.5/site-packages/tensorflow/python/pywrap_tensorflow.py\", line 58, in <module>\n    from tensorflow.python.pywrap_tensorflow_internal import *\n  File \"/Users/Sebastien/miniconda3/envs/Optimisation/lib/python3.5/site-packages/tensorflow/python/pywrap_tensorflow_internal.py\", line 28, in <module>\n    _pywrap_tensorflow_internal = swig_import_helper()\n  File \"/Users/Sebastien/miniconda3/envs/Optimisation/lib/python3.5/site-packages/tensorflow/python/pywrap_tensorflow_internal.py\", line 24, in swig_import_helper\n    _mod = imp.load_module('_pywrap_tensorflow_internal', fp, pathname, description)\n  File \"/Users/Sebastien/miniconda3/envs/Optimisation/lib/python3.5/imp.py\", line 243, in load_module\n    return load_dynamic(name, filename, file)\n  File \"/Users/Sebastien/miniconda3/envs/Optimisation/lib/python3.5/imp.py\", line 343, in load_dynamic\n    return _load(spec)\nImportError: dlopen(/Users/Sebastien/miniconda3/envs/Optimisation/lib/python3.5/site-packages/tensorflow/python/_pywrap_tensorflow_internal.so, 6): Symbol not found: _SecKeyCopyExternalRepresentation\n  Referenced from: /Users/Sebastien/miniconda3/envs/Optimisation/lib/python3.5/site-packages/tensorflow/python/_pywrap_tensorflow_internal.so (which was built for Mac OS X 10.12)\n  Expected in: /System/Library/Frameworks/Security.framework/Versions/A/Security\n in /Users/Sebastien/miniconda3/envs/Optimisation/lib/python3.5/site-packages/tensorflow/python/_pywrap_tensorflow_internal.so\n\n\nFailed to load the native TensorFlow runtime.\n\nSee https://www.tensorflow.org/install/install_sources#common_installation_problems\n\nfor some common reasons and solutions.  Include the entire stack trace\nabove this error message when asking for help.",
     "output_type": "error",
     "traceback": [
      "\u001b[0;31m---------------------------------------------------------------------------\u001b[0m",
      "\u001b[0;31mImportError\u001b[0m                               Traceback (most recent call last)",
      "\u001b[0;32m~/miniconda3/envs/Optimisation/lib/python3.5/site-packages/tensorflow/python/pywrap_tensorflow.py\u001b[0m in \u001b[0;36m<module>\u001b[0;34m\u001b[0m\n\u001b[1;32m     57\u001b[0m \u001b[0;34m\u001b[0m\u001b[0m\n\u001b[0;32m---> 58\u001b[0;31m   \u001b[0;32mfrom\u001b[0m \u001b[0mtensorflow\u001b[0m\u001b[0;34m.\u001b[0m\u001b[0mpython\u001b[0m\u001b[0;34m.\u001b[0m\u001b[0mpywrap_tensorflow_internal\u001b[0m \u001b[0;32mimport\u001b[0m \u001b[0;34m*\u001b[0m\u001b[0;34m\u001b[0m\u001b[0m\n\u001b[0m\u001b[1;32m     59\u001b[0m   \u001b[0;32mfrom\u001b[0m \u001b[0mtensorflow\u001b[0m\u001b[0;34m.\u001b[0m\u001b[0mpython\u001b[0m\u001b[0;34m.\u001b[0m\u001b[0mpywrap_tensorflow_internal\u001b[0m \u001b[0;32mimport\u001b[0m \u001b[0m__version__\u001b[0m\u001b[0;34m\u001b[0m\u001b[0m\n",
      "\u001b[0;32m~/miniconda3/envs/Optimisation/lib/python3.5/site-packages/tensorflow/python/pywrap_tensorflow_internal.py\u001b[0m in \u001b[0;36m<module>\u001b[0;34m\u001b[0m\n\u001b[1;32m     27\u001b[0m             \u001b[0;32mreturn\u001b[0m \u001b[0m_mod\u001b[0m\u001b[0;34m\u001b[0m\u001b[0m\n\u001b[0;32m---> 28\u001b[0;31m     \u001b[0m_pywrap_tensorflow_internal\u001b[0m \u001b[0;34m=\u001b[0m \u001b[0mswig_import_helper\u001b[0m\u001b[0;34m(\u001b[0m\u001b[0;34m)\u001b[0m\u001b[0;34m\u001b[0m\u001b[0m\n\u001b[0m\u001b[1;32m     29\u001b[0m     \u001b[0;32mdel\u001b[0m \u001b[0mswig_import_helper\u001b[0m\u001b[0;34m\u001b[0m\u001b[0m\n",
      "\u001b[0;32m~/miniconda3/envs/Optimisation/lib/python3.5/site-packages/tensorflow/python/pywrap_tensorflow_internal.py\u001b[0m in \u001b[0;36mswig_import_helper\u001b[0;34m()\u001b[0m\n\u001b[1;32m     23\u001b[0m             \u001b[0;32mtry\u001b[0m\u001b[0;34m:\u001b[0m\u001b[0;34m\u001b[0m\u001b[0m\n\u001b[0;32m---> 24\u001b[0;31m                 \u001b[0m_mod\u001b[0m \u001b[0;34m=\u001b[0m \u001b[0mimp\u001b[0m\u001b[0;34m.\u001b[0m\u001b[0mload_module\u001b[0m\u001b[0;34m(\u001b[0m\u001b[0;34m'_pywrap_tensorflow_internal'\u001b[0m\u001b[0;34m,\u001b[0m \u001b[0mfp\u001b[0m\u001b[0;34m,\u001b[0m \u001b[0mpathname\u001b[0m\u001b[0;34m,\u001b[0m \u001b[0mdescription\u001b[0m\u001b[0;34m)\u001b[0m\u001b[0;34m\u001b[0m\u001b[0m\n\u001b[0m\u001b[1;32m     25\u001b[0m             \u001b[0;32mfinally\u001b[0m\u001b[0;34m:\u001b[0m\u001b[0;34m\u001b[0m\u001b[0m\n",
      "\u001b[0;32m~/miniconda3/envs/Optimisation/lib/python3.5/imp.py\u001b[0m in \u001b[0;36mload_module\u001b[0;34m(name, file, filename, details)\u001b[0m\n\u001b[1;32m    242\u001b[0m         \u001b[0;32melse\u001b[0m\u001b[0;34m:\u001b[0m\u001b[0;34m\u001b[0m\u001b[0m\n\u001b[0;32m--> 243\u001b[0;31m             \u001b[0;32mreturn\u001b[0m \u001b[0mload_dynamic\u001b[0m\u001b[0;34m(\u001b[0m\u001b[0mname\u001b[0m\u001b[0;34m,\u001b[0m \u001b[0mfilename\u001b[0m\u001b[0;34m,\u001b[0m \u001b[0mfile\u001b[0m\u001b[0;34m)\u001b[0m\u001b[0;34m\u001b[0m\u001b[0m\n\u001b[0m\u001b[1;32m    244\u001b[0m     \u001b[0;32melif\u001b[0m \u001b[0mtype_\u001b[0m \u001b[0;34m==\u001b[0m \u001b[0mPKG_DIRECTORY\u001b[0m\u001b[0;34m:\u001b[0m\u001b[0;34m\u001b[0m\u001b[0m\n",
      "\u001b[0;32m~/miniconda3/envs/Optimisation/lib/python3.5/imp.py\u001b[0m in \u001b[0;36mload_dynamic\u001b[0;34m(name, path, file)\u001b[0m\n\u001b[1;32m    342\u001b[0m             name=name, loader=loader, origin=path)\n\u001b[0;32m--> 343\u001b[0;31m         \u001b[0;32mreturn\u001b[0m \u001b[0m_load\u001b[0m\u001b[0;34m(\u001b[0m\u001b[0mspec\u001b[0m\u001b[0;34m)\u001b[0m\u001b[0;34m\u001b[0m\u001b[0m\n\u001b[0m\u001b[1;32m    344\u001b[0m \u001b[0;34m\u001b[0m\u001b[0m\n",
      "\u001b[0;31mImportError\u001b[0m: dlopen(/Users/Sebastien/miniconda3/envs/Optimisation/lib/python3.5/site-packages/tensorflow/python/_pywrap_tensorflow_internal.so, 6): Symbol not found: _SecKeyCopyExternalRepresentation\n  Referenced from: /Users/Sebastien/miniconda3/envs/Optimisation/lib/python3.5/site-packages/tensorflow/python/_pywrap_tensorflow_internal.so (which was built for Mac OS X 10.12)\n  Expected in: /System/Library/Frameworks/Security.framework/Versions/A/Security\n in /Users/Sebastien/miniconda3/envs/Optimisation/lib/python3.5/site-packages/tensorflow/python/_pywrap_tensorflow_internal.so",
      "\nDuring handling of the above exception, another exception occurred:\n",
      "\u001b[0;31mImportError\u001b[0m                               Traceback (most recent call last)",
      "\u001b[0;32m<ipython-input-1-64156d691fe5>\u001b[0m in \u001b[0;36m<module>\u001b[0;34m\u001b[0m\n\u001b[0;32m----> 1\u001b[0;31m \u001b[0;32mimport\u001b[0m \u001b[0mtensorflow\u001b[0m \u001b[0;32mas\u001b[0m \u001b[0mtf\u001b[0m\u001b[0;34m\u001b[0m\u001b[0m\n\u001b[0m",
      "\u001b[0;32m~/miniconda3/envs/Optimisation/lib/python3.5/site-packages/tensorflow/__init__.py\u001b[0m in \u001b[0;36m<module>\u001b[0;34m\u001b[0m\n\u001b[1;32m     20\u001b[0m \u001b[0;34m\u001b[0m\u001b[0m\n\u001b[1;32m     21\u001b[0m \u001b[0;31m# pylint: disable=g-bad-import-order\u001b[0m\u001b[0;34m\u001b[0m\u001b[0;34m\u001b[0m\u001b[0m\n\u001b[0;32m---> 22\u001b[0;31m \u001b[0;32mfrom\u001b[0m \u001b[0mtensorflow\u001b[0m\u001b[0;34m.\u001b[0m\u001b[0mpython\u001b[0m \u001b[0;32mimport\u001b[0m \u001b[0mpywrap_tensorflow\u001b[0m  \u001b[0;31m# pylint: disable=unused-import\u001b[0m\u001b[0;34m\u001b[0m\u001b[0m\n\u001b[0m\u001b[1;32m     23\u001b[0m \u001b[0;34m\u001b[0m\u001b[0m\n\u001b[1;32m     24\u001b[0m \u001b[0;32mtry\u001b[0m\u001b[0;34m:\u001b[0m\u001b[0;34m\u001b[0m\u001b[0m\n",
      "\u001b[0;32m~/miniconda3/envs/Optimisation/lib/python3.5/site-packages/tensorflow/python/__init__.py\u001b[0m in \u001b[0;36m<module>\u001b[0;34m\u001b[0m\n\u001b[1;32m     47\u001b[0m \u001b[0;32mimport\u001b[0m \u001b[0mnumpy\u001b[0m \u001b[0;32mas\u001b[0m \u001b[0mnp\u001b[0m\u001b[0;34m\u001b[0m\u001b[0m\n\u001b[1;32m     48\u001b[0m \u001b[0;34m\u001b[0m\u001b[0m\n\u001b[0;32m---> 49\u001b[0;31m \u001b[0;32mfrom\u001b[0m \u001b[0mtensorflow\u001b[0m\u001b[0;34m.\u001b[0m\u001b[0mpython\u001b[0m \u001b[0;32mimport\u001b[0m \u001b[0mpywrap_tensorflow\u001b[0m\u001b[0;34m\u001b[0m\u001b[0m\n\u001b[0m\u001b[1;32m     50\u001b[0m \u001b[0;34m\u001b[0m\u001b[0m\n\u001b[1;32m     51\u001b[0m \u001b[0;31m# Protocol buffers\u001b[0m\u001b[0;34m\u001b[0m\u001b[0;34m\u001b[0m\u001b[0m\n",
      "\u001b[0;32m~/miniconda3/envs/Optimisation/lib/python3.5/site-packages/tensorflow/python/pywrap_tensorflow.py\u001b[0m in \u001b[0;36m<module>\u001b[0;34m\u001b[0m\n\u001b[1;32m     72\u001b[0m \u001b[0;32mfor\u001b[0m \u001b[0msome\u001b[0m \u001b[0mcommon\u001b[0m \u001b[0mreasons\u001b[0m \u001b[0;32mand\u001b[0m \u001b[0msolutions\u001b[0m\u001b[0;34m.\u001b[0m  \u001b[0mInclude\u001b[0m \u001b[0mthe\u001b[0m \u001b[0mentire\u001b[0m \u001b[0mstack\u001b[0m \u001b[0mtrace\u001b[0m\u001b[0;34m\u001b[0m\u001b[0m\n\u001b[1;32m     73\u001b[0m above this error message when asking for help.\"\"\" % traceback.format_exc()\n\u001b[0;32m---> 74\u001b[0;31m   \u001b[0;32mraise\u001b[0m \u001b[0mImportError\u001b[0m\u001b[0;34m(\u001b[0m\u001b[0mmsg\u001b[0m\u001b[0;34m)\u001b[0m\u001b[0;34m\u001b[0m\u001b[0m\n\u001b[0m\u001b[1;32m     75\u001b[0m \u001b[0;34m\u001b[0m\u001b[0m\n\u001b[1;32m     76\u001b[0m \u001b[0;31m# pylint: enable=wildcard-import,g-import-not-at-top,unused-import,line-too-long\u001b[0m\u001b[0;34m\u001b[0m\u001b[0;34m\u001b[0m\u001b[0m\n",
      "\u001b[0;31mImportError\u001b[0m: Traceback (most recent call last):\n  File \"/Users/Sebastien/miniconda3/envs/Optimisation/lib/python3.5/site-packages/tensorflow/python/pywrap_tensorflow.py\", line 58, in <module>\n    from tensorflow.python.pywrap_tensorflow_internal import *\n  File \"/Users/Sebastien/miniconda3/envs/Optimisation/lib/python3.5/site-packages/tensorflow/python/pywrap_tensorflow_internal.py\", line 28, in <module>\n    _pywrap_tensorflow_internal = swig_import_helper()\n  File \"/Users/Sebastien/miniconda3/envs/Optimisation/lib/python3.5/site-packages/tensorflow/python/pywrap_tensorflow_internal.py\", line 24, in swig_import_helper\n    _mod = imp.load_module('_pywrap_tensorflow_internal', fp, pathname, description)\n  File \"/Users/Sebastien/miniconda3/envs/Optimisation/lib/python3.5/imp.py\", line 243, in load_module\n    return load_dynamic(name, filename, file)\n  File \"/Users/Sebastien/miniconda3/envs/Optimisation/lib/python3.5/imp.py\", line 343, in load_dynamic\n    return _load(spec)\nImportError: dlopen(/Users/Sebastien/miniconda3/envs/Optimisation/lib/python3.5/site-packages/tensorflow/python/_pywrap_tensorflow_internal.so, 6): Symbol not found: _SecKeyCopyExternalRepresentation\n  Referenced from: /Users/Sebastien/miniconda3/envs/Optimisation/lib/python3.5/site-packages/tensorflow/python/_pywrap_tensorflow_internal.so (which was built for Mac OS X 10.12)\n  Expected in: /System/Library/Frameworks/Security.framework/Versions/A/Security\n in /Users/Sebastien/miniconda3/envs/Optimisation/lib/python3.5/site-packages/tensorflow/python/_pywrap_tensorflow_internal.so\n\n\nFailed to load the native TensorFlow runtime.\n\nSee https://www.tensorflow.org/install/install_sources#common_installation_problems\n\nfor some common reasons and solutions.  Include the entire stack trace\nabove this error message when asking for help."
     ]
    }
   ],
   "source": [
    "import tensorflow as tf"
   ]
  },
  {
   "cell_type": "code",
   "execution_count": null,
   "metadata": {},
   "outputs": [],
   "source": [
    "Descripteurs.shape"
   ]
  },
  {
   "cell_type": "code",
   "execution_count": null,
   "metadata": {},
   "outputs": [],
   "source": [
    "Descripteurs[0].shape\n",
    "Classe = Classe.reshape(-1, 1)"
   ]
  },
  {
   "cell_type": "code",
   "execution_count": null,
   "metadata": {},
   "outputs": [],
   "source": [
    "tf_features = tf.placeholder(tf.float32, shape=[None, 40])\n",
    "tf_targets = tf.placeholder(tf.float32, shape=[None, 1])"
   ]
  },
  {
   "cell_type": "code",
   "execution_count": null,
   "metadata": {},
   "outputs": [],
   "source": [
    "# First\n",
    "w1 = tf.Variable(tf.random_normal([40, 1600]))\n",
    "b1 = tf.Variable(tf.zeros([1600]))\n",
    "# Operations\n",
    "z1 = tf.matmul(tf_features, w1) + b1\n",
    "a1 = tf.nn.sigmoid(z1)\n",
    "\n",
    "# Second \n",
    "\n",
    "w_inter = tf.Variable(tf.random_normal([1600, 1600]))\n",
    "b_inter = tf.Variable(tf.zeros([1600]))\n",
    "\n",
    "# Operations\n",
    "\n",
    "z_inter = tf.matmul(a1, w_inter) + b_inter\n",
    "a_inter = tf.nn.sigmoid(z_inter)\n",
    "\n",
    "# Output neuron\n",
    "w2 = tf.Variable(tf.random_normal([1600, 1]))\n",
    "b2 = tf.Variable(tf.zeros([1]))\n",
    "# Operations\n",
    "z2 = tf.matmul(a_inter, w2) + b2\n",
    "py = tf.nn.sigmoid(z2)\n",
    "\n",
    "cost = tf.reduce_mean(tf.square(py - tf_targets))\n",
    "\n",
    "correct_prediction = tf.equal(tf.round(py), tf_targets)\n",
    "accuracy = tf.reduce_mean(tf.cast(correct_prediction, tf.float32))\n",
    "\n",
    "optimizer = tf.train.GradientDescentOptimizer(learning_rate=1.0)\n",
    "train = optimizer.minimize(cost)\n",
    "\n",
    "sess = tf.Session()\n",
    "sess.run(tf.global_variables_initializer())"
   ]
  },
  {
   "cell_type": "code",
   "execution_count": null,
   "metadata": {},
   "outputs": [],
   "source": [
    "for e in range(100):\n",
    "\n",
    "        sess.run(train, feed_dict={\n",
    "            tf_features: Descripteurs,\n",
    "            tf_targets: Classe\n",
    "        })\n",
    "\n",
    "        print(\"accuracy =\", sess.run(accuracy, feed_dict={\n",
    "            tf_features: Descripteurs,\n",
    "            tf_targets: Classe\n",
    "        }))\n",
    "        \n"
   ]
  },
  {
   "cell_type": "markdown",
   "metadata": {},
   "source": [
    "# 2 Hidden layers"
   ]
  },
  {
   "cell_type": "code",
   "execution_count": null,
   "metadata": {},
   "outputs": [],
   "source": [
    "# First\n",
    "w1 = tf.Variable(tf.random_normal([40, 1600]))\n",
    "b1 = tf.Variable(tf.zeros([1600]))\n",
    "# Operations\n",
    "z1 = tf.matmul(tf_features, w1) + b1\n",
    "a1 = tf.nn.sigmoid(z1)\n",
    "\n",
    "# Second \n",
    "\n",
    "w_inter_1 = tf.Variable(tf.random_normal([1600, 1600]))\n",
    "b_inter_1 = tf.Variable(tf.zeros([1600]))\n",
    "\n",
    "# Operations\n",
    "\n",
    "z_inter_1 = tf.matmul(a1, w_inter_1) + b_inter\n",
    "a_inter_1 = tf.nn.sigmoid(z_inter_1)\n",
    "\n",
    "# Third \n",
    "\n",
    "w_inter_2 = tf.Variable(tf.random_normal([1600, 1600]))\n",
    "b_inter_2 = tf.Variable(tf.zeros([1600]))\n",
    "\n",
    "# Operations\n",
    "\n",
    "z_inter_2 = tf.matmul(a_inter_1, w_inter_2) + b_inter_2\n",
    "a_inter_2 = tf.nn.sigmoid(z_inter_2)\n",
    "\n",
    "# Output neuron\n",
    "w2 = tf.Variable(tf.random_normal([1600, 1]))\n",
    "b2 = tf.Variable(tf.zeros([1]))\n",
    "# Operations\n",
    "z2 = tf.matmul(a_inter_2, w2) + b2\n",
    "py = tf.nn.sigmoid(z2)\n",
    "\n",
    "cost = tf.reduce_mean(tf.square(py - tf_targets))\n",
    "\n",
    "correct_prediction = tf.equal(tf.round(py), tf_targets)\n",
    "accuracy = tf.reduce_mean(tf.cast(correct_prediction, tf.float32))\n",
    "\n",
    "optimizer = tf.train.GradientDescentOptimizer(learning_rate=1.0)\n",
    "train = optimizer.minimize(cost)\n",
    "\n",
    "sess = tf.Session()\n",
    "sess.run(tf.global_variables_initializer())"
   ]
  },
  {
   "cell_type": "code",
   "execution_count": null,
   "metadata": {},
   "outputs": [],
   "source": [
    "for e in range(100):\n",
    "\n",
    "        sess.run(train, feed_dict={\n",
    "            tf_features: Descripteurs,\n",
    "            tf_targets: Classe\n",
    "        })\n",
    "\n",
    "        print(\"accuracy =\", sess.run(accuracy, feed_dict={\n",
    "            tf_features: Descripteurs,\n",
    "            tf_targets: Classe\n",
    "        }))\n",
    "        \n"
   ]
  },
  {
   "cell_type": "raw",
   "metadata": {},
   "source": [
    "score_NN = np.ones(20)"
   ]
  },
  {
   "cell_type": "code",
   "execution_count": 21,
   "metadata": {},
   "outputs": [],
   "source": [
    "score_NN = np.ones(20)*0.5165"
   ]
  },
  {
   "cell_type": "code",
   "execution_count": 22,
   "metadata": {},
   "outputs": [
    {
     "data": {
      "text/plain": [
       "array([0.5165, 0.5165, 0.5165, 0.5165, 0.5165, 0.5165, 0.5165, 0.5165,\n",
       "       0.5165, 0.5165, 0.5165, 0.5165, 0.5165, 0.5165, 0.5165, 0.5165,\n",
       "       0.5165, 0.5165, 0.5165, 0.5165])"
      ]
     },
     "execution_count": 22,
     "metadata": {},
     "output_type": "execute_result"
    }
   ],
   "source": [
    "score_NN"
   ]
  },
  {
   "cell_type": "code",
   "execution_count": 24,
   "metadata": {},
   "outputs": [
    {
     "data": {
      "image/png": "[encoded data removed]",
      "text/plain": [
       "<Figure size 432x288 with 1 Axes>"
      ]
     },
     "metadata": {
      "needs_background": "light"
     },
     "output_type": "display_data"
    }
   ],
   "source": [
    "plt.plot(range(1,21), scores_logistic, 'r')\n",
    "plt.plot(range(1,21), scores_knn_optimal, 'g')\n",
    "plt.plot(range(1,21), scores_kmeans, 'b')\n",
    "plt.plot(range(1,21), scores_svm, 'c')\n",
    "plt.plot(range(1,21), score_NN, 'm')\n",
    "plt.plot(range(1,21), scores_rfc, 'y')\n",
    "\n",
    "plt.xlabel('Cross-validation time')\n",
    "plt.ylabel('Accuracy')\n",
    "plt.title('Accuracy during the CV process')\n",
    "plt.legend(['Logistic Classifier','Optimal KNN Classifier','Kmeans Classifier','SVM Classifier','Neural Network - 2 or 3 Hidden Layers','Random Forest Classifier'],bbox_to_anchor=(1.05, 1), loc=2, borderaxespad=0.)\n",
    "plt.show()"
   ]
  },
  {
   "cell_type": "code",
   "execution_count": null,
   "metadata": {},
   "outputs": [],
   "source": []
  },
  {
   "cell_type": "code",
   "execution_count": null,
   "metadata": {},
   "outputs": [],
   "source": []
  },
  {
   "cell_type": "code",
   "execution_count": null,
   "metadata": {},
   "outputs": [],
   "source": []
  }
 ],
 "metadata": {
  "kernelspec": {
   "display_name": "Python 3",
   "language": "python",
   "name": "python3"
  },
  "language_info": {
   "codemirror_mode": {
    "name": "ipython",
    "version": 3
   },
   "file_extension": ".py",
   "mimetype": "text/x-python",
   "name": "python",
   "nbconvert_exporter": "python",
   "pygments_lexer": "ipython3",
   "version": "3.5.5"
  }
 },
 "nbformat": 4,
 "nbformat_minor": 2
}

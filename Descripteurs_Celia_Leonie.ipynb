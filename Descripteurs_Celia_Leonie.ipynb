{
 "cells": [
  {
   "cell_type": "code",
   "execution_count": 1,
   "metadata": {},
   "outputs": [],
   "source": [
    "%matplotlib notebook"
   ]
  },
  {
   "cell_type": "code",
   "execution_count": 29,
   "metadata": {},
   "outputs": [],
   "source": [
    "import numpy as np\n",
    "import matplotlib.pyplot as plt\n",
    "import skimage.io\n",
    "import pink\n",
    "import pink.cpp as pinklib\n",
    "from scipy import ndimage\n",
    "from skimage import morphology, filters\n",
    "import matplotlib.image as mpimg\n",
    "import glob\n",
    "import cv2\n",
    "import numpy as np\n",
    "import matplotlib.pyplot as plt\n",
    "from sklearn.cluster import KMeans\n",
    "import os\n",
    "import sys\n",
    "import scipy.fftpack"
   ]
  },
  {
   "cell_type": "code",
   "execution_count": 130,
   "metadata": {},
   "outputs": [],
   "source": [
    "def lvl_gris(image):\n",
    "    s = image.shape\n",
    "    gris = np.zeros([s[0],s[1]],dtype='uint8')\n",
    "    for i in range (0,s[0]):\n",
    "        for j in range (0,s[1]):\n",
    "            gris[i,j] = 0.299*image[i,j,0]+0.587*image[i,j,1]+0.114*image[i,j,2]\n",
    "    return gris\n",
    "\n",
    "def histogramme(image):\n",
    "    h = np.zeros(256,dtype=np.float32)\n",
    "    s = image.shape\n",
    "    for j in range(s[0]):\n",
    "        for i in range(s[1]):\n",
    "            valeur = image[j,i]\n",
    "            h[int(valeur)] += 1\n",
    "    return h\n",
    "    \n",
    "def mode(image):\n",
    "    h = histogramme(image)\n",
    "    for i in range(0,len(h)):\n",
    "        if h[i]==max(h):\n",
    "            return i\n",
    "\n",
    "def descripteurs(Images, patchs,n):\n",
    "    descri = []\n",
    "    test = []\n",
    "\n",
    "    for j in range(n):\n",
    "        image = skimage.io.imread(Images[j])\n",
    "        gris = lvl_gris(image)\n",
    "        mean = np.mean(gris)\n",
    "    \n",
    "        comp = []\n",
    "        comp2 = []\n",
    "        for i in range(20):\n",
    "            patchs_img = patchs[j][i]\n",
    "            patch = image[patchs_img[0][0]:patchs_img[1][0],patchs_img[0][1]:patchs_img[1][1]]\n",
    "            patch = lvl_gris(patch)\n",
    "            moy = patch.mean() \n",
    "            mod = mode(patch)\n",
    "        \n",
    "            if moy <= mean :\n",
    "                comp.append([moy,mod])\n",
    "                comp2.append(1)\n",
    "            else:\n",
    "                comp.append([moy,mod])\n",
    "                comp2.append(0)\n",
    "            \n",
    "        descri.append([comp])\n",
    "        test.append([comp2])\n",
    "    return(descri,test)"
   ]
  },
  {
   "cell_type": "code",
   "execution_count": 131,
   "metadata": {},
   "outputs": [],
   "source": [
    "Images = sorted(glob.glob(\"images/*.jpg\"))\n",
    "patchs = np.load('Patchs.npy')\n",
    "n = len(Images)\n",
    "\n",
    "descri,test = descripteurs(Images,patchs,n)\n",
    "        "
   ]
  },
  {
   "cell_type": "code",
   "execution_count": 134,
   "metadata": {},
   "outputs": [
    {
     "name": "stdout",
     "output_type": "stream",
     "text": [
      "[[[128.08500000000001, 133], [126.4425, 134], [94.394999999999996, 97], [93.052499999999995, 89], [102.765, 95], [105.8475, 105], [137.25749999999999, 137], [143.47999999999999, 147], [128.29499999999999, 129], [97.077500000000001, 97], [193.53999999999999, 194], [191.5675, 191], [192.60249999999999, 192], [179.75, 182], [185.0575, 186], [185.19, 186], [197.10749999999999, 197], [190.8725, 194], [173.0325, 176], [134.34999999999999, 136]]]\n",
      "[[1, 1, 1, 1, 1, 1, 1, 1, 1, 1, 0, 0, 0, 0, 0, 0, 0, 0, 0, 1]]\n"
     ]
    }
   ],
   "source": [
    "print(descri[0])\n",
    "print(test[0])"
   ]
  },
  {
   "cell_type": "code",
   "execution_count": null,
   "metadata": {},
   "outputs": [],
   "source": []
  },
  {
   "cell_type": "code",
   "execution_count": null,
   "metadata": {},
   "outputs": [],
   "source": []
  },
  {
   "cell_type": "code",
   "execution_count": null,
   "metadata": {},
   "outputs": [],
   "source": []
  }
 ],
 "metadata": {
  "kernelspec": {
   "display_name": "Python 3",
   "language": "python",
   "name": "python3"
  },
  "language_info": {
   "codemirror_mode": {
    "name": "ipython",
    "version": 3
   },
   "file_extension": ".py",
   "mimetype": "text/x-python",
   "name": "python",
   "nbconvert_exporter": "python",
   "pygments_lexer": "ipython3",
   "version": "3.5.3"
  }
 },
 "nbformat": 4,
 "nbformat_minor": 2
}
